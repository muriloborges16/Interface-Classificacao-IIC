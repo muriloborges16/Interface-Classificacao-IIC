{
  "nbformat": 4,
  "nbformat_minor": 0,
  "metadata": {
    "colab": {
      "provenance": [],
      "authorship_tag": "ABX9TyMvMX5dllCVsAH5VYX2oj2o",
      "include_colab_link": true
    },
    "kernelspec": {
      "name": "python3",
      "display_name": "Python 3"
    },
    "language_info": {
      "name": "python"
    }
  },
  "cells": [
    {
      "cell_type": "markdown",
      "metadata": {
        "id": "view-in-github",
        "colab_type": "text"
      },
      "source": [
        "<a href=\"https://colab.research.google.com/github/muriloborges16/Interface-Classificacao-IIC/blob/master/Murilo_Borges_SAD.ipynb\" target=\"_parent\"><img src=\"https://colab.research.google.com/assets/colab-badge.svg\" alt=\"Open In Colab\"/></a>"
      ]
    },
    {
      "cell_type": "code",
      "execution_count": null,
      "metadata": {
        "id": "eGDneXia9EzU"
      },
      "outputs": [],
      "source": [
        "import pandas as pd"
      ]
    },
    {
      "cell_type": "code",
      "source": [
        "from google.colab import drive\n",
        "drive.mount('/content/drive')"
      ],
      "metadata": {
        "colab": {
          "base_uri": "https://localhost:8080/"
        },
        "id": "TLoWsygJ-bXT",
        "outputId": "49efd40e-80e8-4e5b-9598-a1658f8a66cd"
      },
      "execution_count": null,
      "outputs": [
        {
          "output_type": "stream",
          "name": "stdout",
          "text": [
            "Mounted at /content/drive\n"
          ]
        }
      ]
    },
    {
      "cell_type": "code",
      "source": [
        "df = pd.read_csv(\"/content/drive/MyDrive/Classroom/Sistemas de apoio à decisão 2 2022/TMDB 10000 Movies Dataset.csv\")"
      ],
      "metadata": {
        "id": "vTbjkm6b-nq6"
      },
      "execution_count": null,
      "outputs": []
    },
    {
      "cell_type": "code",
      "source": [
        "df"
      ],
      "metadata": {
        "colab": {
          "base_uri": "https://localhost:8080/",
          "height": 641
        },
        "id": "00OJKXyzABAM",
        "outputId": "5cf54050-da99-4aca-a1d6-b31519da9430"
      },
      "execution_count": null,
      "outputs": [
        {
          "output_type": "execute_result",
          "data": {
            "text/plain": [
              "          id original_language             original_title  \\\n",
              "0     851644                ko                    20세기 소녀   \n",
              "1        238                en              The Godfather   \n",
              "2        278                en   The Shawshank Redemption   \n",
              "3        240                en      The Godfather Part II   \n",
              "4     667257                es           Cosas imposibles   \n",
              "...      ...               ...                        ...   \n",
              "9995   11375                en         Hollywood Homicide   \n",
              "9996  298614                fr  Une heure de tranquillité   \n",
              "9997   50357                en                  Apollo 18   \n",
              "9998   97795                en                     Emergo   \n",
              "9999   11822                de                Nekromantik   \n",
              "\n",
              "                                               overview  popularity  \\\n",
              "0     Yeon-du asks her best friend Bora to collect a...     170.540   \n",
              "1     Spanning the years 1945 to 1955, a chronicle o...      86.518   \n",
              "2     Framed in the 1940s for the double murder of h...      84.681   \n",
              "3     In the continuing saga of the Corleone crime f...      44.957   \n",
              "4     Matilde is a woman who, after the death of her...      32.859   \n",
              "...                                                 ...         ...   \n",
              "9995  Joe Gavilan and his new partner K. C. Calden, ...       9.532   \n",
              "9996  Michel, who's crazy about jazz, has just found...       5.835   \n",
              "9997  Officially, Apollo 17 was the last manned miss...      51.415   \n",
              "9998  A team of parapsychologists sets out to invest...       6.226   \n",
              "9999  A street sweeper who cleans up after grisly ac...       9.630   \n",
              "\n",
              "     release_date                     title  vote_average  vote_count  \n",
              "0      2022-10-06         20th Century Girl           8.7         290  \n",
              "1      1972-03-14             The Godfather           8.7       16988  \n",
              "2      1994-09-23  The Shawshank Redemption           8.7       22748  \n",
              "3      1974-12-20     The Godfather Part II           8.6       10293  \n",
              "4      2021-06-17         Impossible Things           8.6         299  \n",
              "...           ...                       ...           ...         ...  \n",
              "9995   2003-06-09        Hollywood Homicide           5.3         529  \n",
              "9996   2014-12-31            Do Not Disturb           5.3         304  \n",
              "9997   2011-07-20                 Apollo 18           5.3         839  \n",
              "9998   2011-10-11             Apartment 143           5.3         242  \n",
              "9999   1988-01-29               Nekromantik           5.3         202  \n",
              "\n",
              "[10000 rows x 9 columns]"
            ],
            "text/html": [
              "\n",
              "  <div id=\"df-46368400-6c29-421f-95ee-8d24e5f64171\">\n",
              "    <div class=\"colab-df-container\">\n",
              "      <div>\n",
              "<style scoped>\n",
              "    .dataframe tbody tr th:only-of-type {\n",
              "        vertical-align: middle;\n",
              "    }\n",
              "\n",
              "    .dataframe tbody tr th {\n",
              "        vertical-align: top;\n",
              "    }\n",
              "\n",
              "    .dataframe thead th {\n",
              "        text-align: right;\n",
              "    }\n",
              "</style>\n",
              "<table border=\"1\" class=\"dataframe\">\n",
              "  <thead>\n",
              "    <tr style=\"text-align: right;\">\n",
              "      <th></th>\n",
              "      <th>id</th>\n",
              "      <th>original_language</th>\n",
              "      <th>original_title</th>\n",
              "      <th>overview</th>\n",
              "      <th>popularity</th>\n",
              "      <th>release_date</th>\n",
              "      <th>title</th>\n",
              "      <th>vote_average</th>\n",
              "      <th>vote_count</th>\n",
              "    </tr>\n",
              "  </thead>\n",
              "  <tbody>\n",
              "    <tr>\n",
              "      <th>0</th>\n",
              "      <td>851644</td>\n",
              "      <td>ko</td>\n",
              "      <td>20세기 소녀</td>\n",
              "      <td>Yeon-du asks her best friend Bora to collect a...</td>\n",
              "      <td>170.540</td>\n",
              "      <td>2022-10-06</td>\n",
              "      <td>20th Century Girl</td>\n",
              "      <td>8.7</td>\n",
              "      <td>290</td>\n",
              "    </tr>\n",
              "    <tr>\n",
              "      <th>1</th>\n",
              "      <td>238</td>\n",
              "      <td>en</td>\n",
              "      <td>The Godfather</td>\n",
              "      <td>Spanning the years 1945 to 1955, a chronicle o...</td>\n",
              "      <td>86.518</td>\n",
              "      <td>1972-03-14</td>\n",
              "      <td>The Godfather</td>\n",
              "      <td>8.7</td>\n",
              "      <td>16988</td>\n",
              "    </tr>\n",
              "    <tr>\n",
              "      <th>2</th>\n",
              "      <td>278</td>\n",
              "      <td>en</td>\n",
              "      <td>The Shawshank Redemption</td>\n",
              "      <td>Framed in the 1940s for the double murder of h...</td>\n",
              "      <td>84.681</td>\n",
              "      <td>1994-09-23</td>\n",
              "      <td>The Shawshank Redemption</td>\n",
              "      <td>8.7</td>\n",
              "      <td>22748</td>\n",
              "    </tr>\n",
              "    <tr>\n",
              "      <th>3</th>\n",
              "      <td>240</td>\n",
              "      <td>en</td>\n",
              "      <td>The Godfather Part II</td>\n",
              "      <td>In the continuing saga of the Corleone crime f...</td>\n",
              "      <td>44.957</td>\n",
              "      <td>1974-12-20</td>\n",
              "      <td>The Godfather Part II</td>\n",
              "      <td>8.6</td>\n",
              "      <td>10293</td>\n",
              "    </tr>\n",
              "    <tr>\n",
              "      <th>4</th>\n",
              "      <td>667257</td>\n",
              "      <td>es</td>\n",
              "      <td>Cosas imposibles</td>\n",
              "      <td>Matilde is a woman who, after the death of her...</td>\n",
              "      <td>32.859</td>\n",
              "      <td>2021-06-17</td>\n",
              "      <td>Impossible Things</td>\n",
              "      <td>8.6</td>\n",
              "      <td>299</td>\n",
              "    </tr>\n",
              "    <tr>\n",
              "      <th>...</th>\n",
              "      <td>...</td>\n",
              "      <td>...</td>\n",
              "      <td>...</td>\n",
              "      <td>...</td>\n",
              "      <td>...</td>\n",
              "      <td>...</td>\n",
              "      <td>...</td>\n",
              "      <td>...</td>\n",
              "      <td>...</td>\n",
              "    </tr>\n",
              "    <tr>\n",
              "      <th>9995</th>\n",
              "      <td>11375</td>\n",
              "      <td>en</td>\n",
              "      <td>Hollywood Homicide</td>\n",
              "      <td>Joe Gavilan and his new partner K. C. Calden, ...</td>\n",
              "      <td>9.532</td>\n",
              "      <td>2003-06-09</td>\n",
              "      <td>Hollywood Homicide</td>\n",
              "      <td>5.3</td>\n",
              "      <td>529</td>\n",
              "    </tr>\n",
              "    <tr>\n",
              "      <th>9996</th>\n",
              "      <td>298614</td>\n",
              "      <td>fr</td>\n",
              "      <td>Une heure de tranquillité</td>\n",
              "      <td>Michel, who's crazy about jazz, has just found...</td>\n",
              "      <td>5.835</td>\n",
              "      <td>2014-12-31</td>\n",
              "      <td>Do Not Disturb</td>\n",
              "      <td>5.3</td>\n",
              "      <td>304</td>\n",
              "    </tr>\n",
              "    <tr>\n",
              "      <th>9997</th>\n",
              "      <td>50357</td>\n",
              "      <td>en</td>\n",
              "      <td>Apollo 18</td>\n",
              "      <td>Officially, Apollo 17 was the last manned miss...</td>\n",
              "      <td>51.415</td>\n",
              "      <td>2011-07-20</td>\n",
              "      <td>Apollo 18</td>\n",
              "      <td>5.3</td>\n",
              "      <td>839</td>\n",
              "    </tr>\n",
              "    <tr>\n",
              "      <th>9998</th>\n",
              "      <td>97795</td>\n",
              "      <td>en</td>\n",
              "      <td>Emergo</td>\n",
              "      <td>A team of parapsychologists sets out to invest...</td>\n",
              "      <td>6.226</td>\n",
              "      <td>2011-10-11</td>\n",
              "      <td>Apartment 143</td>\n",
              "      <td>5.3</td>\n",
              "      <td>242</td>\n",
              "    </tr>\n",
              "    <tr>\n",
              "      <th>9999</th>\n",
              "      <td>11822</td>\n",
              "      <td>de</td>\n",
              "      <td>Nekromantik</td>\n",
              "      <td>A street sweeper who cleans up after grisly ac...</td>\n",
              "      <td>9.630</td>\n",
              "      <td>1988-01-29</td>\n",
              "      <td>Nekromantik</td>\n",
              "      <td>5.3</td>\n",
              "      <td>202</td>\n",
              "    </tr>\n",
              "  </tbody>\n",
              "</table>\n",
              "<p>10000 rows × 9 columns</p>\n",
              "</div>\n",
              "      <button class=\"colab-df-convert\" onclick=\"convertToInteractive('df-46368400-6c29-421f-95ee-8d24e5f64171')\"\n",
              "              title=\"Convert this dataframe to an interactive table.\"\n",
              "              style=\"display:none;\">\n",
              "        \n",
              "  <svg xmlns=\"http://www.w3.org/2000/svg\" height=\"24px\"viewBox=\"0 0 24 24\"\n",
              "       width=\"24px\">\n",
              "    <path d=\"M0 0h24v24H0V0z\" fill=\"none\"/>\n",
              "    <path d=\"M18.56 5.44l.94 2.06.94-2.06 2.06-.94-2.06-.94-.94-2.06-.94 2.06-2.06.94zm-11 1L8.5 8.5l.94-2.06 2.06-.94-2.06-.94L8.5 2.5l-.94 2.06-2.06.94zm10 10l.94 2.06.94-2.06 2.06-.94-2.06-.94-.94-2.06-.94 2.06-2.06.94z\"/><path d=\"M17.41 7.96l-1.37-1.37c-.4-.4-.92-.59-1.43-.59-.52 0-1.04.2-1.43.59L10.3 9.45l-7.72 7.72c-.78.78-.78 2.05 0 2.83L4 21.41c.39.39.9.59 1.41.59.51 0 1.02-.2 1.41-.59l7.78-7.78 2.81-2.81c.8-.78.8-2.07 0-2.86zM5.41 20L4 18.59l7.72-7.72 1.47 1.35L5.41 20z\"/>\n",
              "  </svg>\n",
              "      </button>\n",
              "      \n",
              "  <style>\n",
              "    .colab-df-container {\n",
              "      display:flex;\n",
              "      flex-wrap:wrap;\n",
              "      gap: 12px;\n",
              "    }\n",
              "\n",
              "    .colab-df-convert {\n",
              "      background-color: #E8F0FE;\n",
              "      border: none;\n",
              "      border-radius: 50%;\n",
              "      cursor: pointer;\n",
              "      display: none;\n",
              "      fill: #1967D2;\n",
              "      height: 32px;\n",
              "      padding: 0 0 0 0;\n",
              "      width: 32px;\n",
              "    }\n",
              "\n",
              "    .colab-df-convert:hover {\n",
              "      background-color: #E2EBFA;\n",
              "      box-shadow: 0px 1px 2px rgba(60, 64, 67, 0.3), 0px 1px 3px 1px rgba(60, 64, 67, 0.15);\n",
              "      fill: #174EA6;\n",
              "    }\n",
              "\n",
              "    [theme=dark] .colab-df-convert {\n",
              "      background-color: #3B4455;\n",
              "      fill: #D2E3FC;\n",
              "    }\n",
              "\n",
              "    [theme=dark] .colab-df-convert:hover {\n",
              "      background-color: #434B5C;\n",
              "      box-shadow: 0px 1px 3px 1px rgba(0, 0, 0, 0.15);\n",
              "      filter: drop-shadow(0px 1px 2px rgba(0, 0, 0, 0.3));\n",
              "      fill: #FFFFFF;\n",
              "    }\n",
              "  </style>\n",
              "\n",
              "      <script>\n",
              "        const buttonEl =\n",
              "          document.querySelector('#df-46368400-6c29-421f-95ee-8d24e5f64171 button.colab-df-convert');\n",
              "        buttonEl.style.display =\n",
              "          google.colab.kernel.accessAllowed ? 'block' : 'none';\n",
              "\n",
              "        async function convertToInteractive(key) {\n",
              "          const element = document.querySelector('#df-46368400-6c29-421f-95ee-8d24e5f64171');\n",
              "          const dataTable =\n",
              "            await google.colab.kernel.invokeFunction('convertToInteractive',\n",
              "                                                     [key], {});\n",
              "          if (!dataTable) return;\n",
              "\n",
              "          const docLinkHtml = 'Like what you see? Visit the ' +\n",
              "            '<a target=\"_blank\" href=https://colab.research.google.com/notebooks/data_table.ipynb>data table notebook</a>'\n",
              "            + ' to learn more about interactive tables.';\n",
              "          element.innerHTML = '';\n",
              "          dataTable['output_type'] = 'display_data';\n",
              "          await google.colab.output.renderOutput(dataTable, element);\n",
              "          const docLink = document.createElement('div');\n",
              "          docLink.innerHTML = docLinkHtml;\n",
              "          element.appendChild(docLink);\n",
              "        }\n",
              "      </script>\n",
              "    </div>\n",
              "  </div>\n",
              "  "
            ]
          },
          "metadata": {},
          "execution_count": 4
        }
      ]
    },
    {
      "cell_type": "code",
      "source": [
        "df.shape"
      ],
      "metadata": {
        "colab": {
          "base_uri": "https://localhost:8080/"
        },
        "id": "bC8egMTYGhc9",
        "outputId": "2f506f03-0b62-4b1a-dd0b-539641214c8e"
      },
      "execution_count": null,
      "outputs": [
        {
          "output_type": "execute_result",
          "data": {
            "text/plain": [
              "(10000, 9)"
            ]
          },
          "metadata": {},
          "execution_count": 5
        }
      ]
    },
    {
      "cell_type": "code",
      "source": [
        "df.columns"
      ],
      "metadata": {
        "colab": {
          "base_uri": "https://localhost:8080/"
        },
        "id": "yOBhMYcQJ8PH",
        "outputId": "a7bc7da7-3a01-4190-80c5-cf798be8cc96"
      },
      "execution_count": null,
      "outputs": [
        {
          "output_type": "execute_result",
          "data": {
            "text/plain": [
              "Index(['id', 'original_language', 'original_title', 'overview', 'popularity',\n",
              "       'release_date', 'title', 'vote_average', 'vote_count'],\n",
              "      dtype='object')"
            ]
          },
          "metadata": {},
          "execution_count": 6
        }
      ]
    },
    {
      "cell_type": "markdown",
      "source": [
        "###Fazendo a filtragem das colunas para uma cópia do DF e removendo a coluna ID pois estava confusa com numeros aleatórios."
      ],
      "metadata": {
        "id": "8P2ZWsnwYSg_"
      }
    },
    {
      "cell_type": "code",
      "source": [
        "dfcopia = df.filter(items=['original_language', 'original_title',\t'overview',\t'popularity',\t'release_date',\t'title',\t'vote_average',\t'vote_count'])"
      ],
      "metadata": {
        "id": "-x2_3widBXFx"
      },
      "execution_count": null,
      "outputs": []
    },
    {
      "cell_type": "markdown",
      "source": [
        "###Renomeando as colunas para o Português para ficar mais fácil para entender do que se trata cada coluna."
      ],
      "metadata": {
        "id": "7plegEB1Zb-3"
      }
    },
    {
      "cell_type": "code",
      "source": [
        "dfcopia.rename(columns = { 'original_language': 'Idioma_Original', \n",
        "                          'original_title' : 'Título_Original',\n",
        "                          'popularity' : 'Qtd_Visualizações',\t\n",
        "                          'release_date' : 'Data_Lançamento',\n",
        "                          'title': 'Nome_Filme',\n",
        "                          'overview': 'Sinopse',\n",
        "                          'vote_average':'Nota do Público',\n",
        "                          'vote_count': 'Qtd de votos'},\n",
        "  inplace = True)"
      ],
      "metadata": {
        "id": "WF1JL_NaH1bw"
      },
      "execution_count": null,
      "outputs": []
    },
    {
      "cell_type": "markdown",
      "source": [
        "###Visualizando as informações do Dataframe para identificar quais colunas possuem valores nulos."
      ],
      "metadata": {
        "id": "wnTgi4UeZ-Ey"
      }
    },
    {
      "cell_type": "code",
      "source": [
        "dfcopia.info()"
      ],
      "metadata": {
        "colab": {
          "base_uri": "https://localhost:8080/"
        },
        "id": "s30_-VHVAvpJ",
        "outputId": "333c83d4-3e9e-4436-a0ef-d1b61b02f365"
      },
      "execution_count": null,
      "outputs": [
        {
          "output_type": "stream",
          "name": "stdout",
          "text": [
            "<class 'pandas.core.frame.DataFrame'>\n",
            "RangeIndex: 10000 entries, 0 to 9999\n",
            "Data columns (total 8 columns):\n",
            " #   Column             Non-Null Count  Dtype  \n",
            "---  ------             --------------  -----  \n",
            " 0   Idioma_Original    10000 non-null  object \n",
            " 1   Título_Original    10000 non-null  object \n",
            " 2   Sinopse            9994 non-null   object \n",
            " 3   Qtd_Visualizações  10000 non-null  float64\n",
            " 4   Data_Lançamento    10000 non-null  object \n",
            " 5   Nome_Filme         10000 non-null  object \n",
            " 6   Nota do Público    10000 non-null  float64\n",
            " 7   Qtd de votos       10000 non-null  int64  \n",
            "dtypes: float64(2), int64(1), object(5)\n",
            "memory usage: 625.1+ KB\n"
          ]
        }
      ]
    },
    {
      "cell_type": "markdown",
      "source": [
        "###Visualizando a coluna \"Sinopse\" que possui valores Nulos."
      ],
      "metadata": {
        "id": "qQpKr_luaw6W"
      }
    },
    {
      "cell_type": "code",
      "source": [
        "dfcopia.loc[dfcopia['Sinopse'].isnull()]"
      ],
      "metadata": {
        "colab": {
          "base_uri": "https://localhost:8080/",
          "height": 238
        },
        "id": "Hn8nlGhMNzji",
        "outputId": "50d73f58-0545-405a-d023-b750778aa70f"
      },
      "execution_count": null,
      "outputs": [
        {
          "output_type": "execute_result",
          "data": {
            "text/plain": [
              "     Idioma_Original           Título_Original Sinopse  Qtd_Visualizações  \\\n",
              "3957              en                   Step Up     NaN             21.672   \n",
              "7393              fr  La Vérité si je mens ! 2     NaN              6.522   \n",
              "8341              fr                    Tanguy     NaN              7.111   \n",
              "8833              en   Amore, bugie e calcetto     NaN              6.172   \n",
              "9609              fr                 Incognito     NaN              7.490   \n",
              "9993              it          Colpi di fulmine     NaN              5.767   \n",
              "\n",
              "     Data_Lançamento               Nome_Filme  Nota do Público  Qtd de votos  \n",
              "3957      2006-08-11                  Step Up              6.9          3342  \n",
              "7393      2001-02-07    Would I Lie to You? 2              6.2           336  \n",
              "8341      2001-11-21                   Tanguy              5.9           398  \n",
              "8833      2008-04-04  Amore, bugie e calcetto              5.8           203  \n",
              "9609      2009-04-28                Incognito              5.5           216  \n",
              "9993      2012-12-13         Lightning Strike              5.3           217  "
            ],
            "text/html": [
              "\n",
              "  <div id=\"df-ec437357-f825-44c4-961a-32545414df73\">\n",
              "    <div class=\"colab-df-container\">\n",
              "      <div>\n",
              "<style scoped>\n",
              "    .dataframe tbody tr th:only-of-type {\n",
              "        vertical-align: middle;\n",
              "    }\n",
              "\n",
              "    .dataframe tbody tr th {\n",
              "        vertical-align: top;\n",
              "    }\n",
              "\n",
              "    .dataframe thead th {\n",
              "        text-align: right;\n",
              "    }\n",
              "</style>\n",
              "<table border=\"1\" class=\"dataframe\">\n",
              "  <thead>\n",
              "    <tr style=\"text-align: right;\">\n",
              "      <th></th>\n",
              "      <th>Idioma_Original</th>\n",
              "      <th>Título_Original</th>\n",
              "      <th>Sinopse</th>\n",
              "      <th>Qtd_Visualizações</th>\n",
              "      <th>Data_Lançamento</th>\n",
              "      <th>Nome_Filme</th>\n",
              "      <th>Nota do Público</th>\n",
              "      <th>Qtd de votos</th>\n",
              "    </tr>\n",
              "  </thead>\n",
              "  <tbody>\n",
              "    <tr>\n",
              "      <th>3957</th>\n",
              "      <td>en</td>\n",
              "      <td>Step Up</td>\n",
              "      <td>NaN</td>\n",
              "      <td>21.672</td>\n",
              "      <td>2006-08-11</td>\n",
              "      <td>Step Up</td>\n",
              "      <td>6.9</td>\n",
              "      <td>3342</td>\n",
              "    </tr>\n",
              "    <tr>\n",
              "      <th>7393</th>\n",
              "      <td>fr</td>\n",
              "      <td>La Vérité si je mens ! 2</td>\n",
              "      <td>NaN</td>\n",
              "      <td>6.522</td>\n",
              "      <td>2001-02-07</td>\n",
              "      <td>Would I Lie to You? 2</td>\n",
              "      <td>6.2</td>\n",
              "      <td>336</td>\n",
              "    </tr>\n",
              "    <tr>\n",
              "      <th>8341</th>\n",
              "      <td>fr</td>\n",
              "      <td>Tanguy</td>\n",
              "      <td>NaN</td>\n",
              "      <td>7.111</td>\n",
              "      <td>2001-11-21</td>\n",
              "      <td>Tanguy</td>\n",
              "      <td>5.9</td>\n",
              "      <td>398</td>\n",
              "    </tr>\n",
              "    <tr>\n",
              "      <th>8833</th>\n",
              "      <td>en</td>\n",
              "      <td>Amore, bugie e calcetto</td>\n",
              "      <td>NaN</td>\n",
              "      <td>6.172</td>\n",
              "      <td>2008-04-04</td>\n",
              "      <td>Amore, bugie e calcetto</td>\n",
              "      <td>5.8</td>\n",
              "      <td>203</td>\n",
              "    </tr>\n",
              "    <tr>\n",
              "      <th>9609</th>\n",
              "      <td>fr</td>\n",
              "      <td>Incognito</td>\n",
              "      <td>NaN</td>\n",
              "      <td>7.490</td>\n",
              "      <td>2009-04-28</td>\n",
              "      <td>Incognito</td>\n",
              "      <td>5.5</td>\n",
              "      <td>216</td>\n",
              "    </tr>\n",
              "    <tr>\n",
              "      <th>9993</th>\n",
              "      <td>it</td>\n",
              "      <td>Colpi di fulmine</td>\n",
              "      <td>NaN</td>\n",
              "      <td>5.767</td>\n",
              "      <td>2012-12-13</td>\n",
              "      <td>Lightning Strike</td>\n",
              "      <td>5.3</td>\n",
              "      <td>217</td>\n",
              "    </tr>\n",
              "  </tbody>\n",
              "</table>\n",
              "</div>\n",
              "      <button class=\"colab-df-convert\" onclick=\"convertToInteractive('df-ec437357-f825-44c4-961a-32545414df73')\"\n",
              "              title=\"Convert this dataframe to an interactive table.\"\n",
              "              style=\"display:none;\">\n",
              "        \n",
              "  <svg xmlns=\"http://www.w3.org/2000/svg\" height=\"24px\"viewBox=\"0 0 24 24\"\n",
              "       width=\"24px\">\n",
              "    <path d=\"M0 0h24v24H0V0z\" fill=\"none\"/>\n",
              "    <path d=\"M18.56 5.44l.94 2.06.94-2.06 2.06-.94-2.06-.94-.94-2.06-.94 2.06-2.06.94zm-11 1L8.5 8.5l.94-2.06 2.06-.94-2.06-.94L8.5 2.5l-.94 2.06-2.06.94zm10 10l.94 2.06.94-2.06 2.06-.94-2.06-.94-.94-2.06-.94 2.06-2.06.94z\"/><path d=\"M17.41 7.96l-1.37-1.37c-.4-.4-.92-.59-1.43-.59-.52 0-1.04.2-1.43.59L10.3 9.45l-7.72 7.72c-.78.78-.78 2.05 0 2.83L4 21.41c.39.39.9.59 1.41.59.51 0 1.02-.2 1.41-.59l7.78-7.78 2.81-2.81c.8-.78.8-2.07 0-2.86zM5.41 20L4 18.59l7.72-7.72 1.47 1.35L5.41 20z\"/>\n",
              "  </svg>\n",
              "      </button>\n",
              "      \n",
              "  <style>\n",
              "    .colab-df-container {\n",
              "      display:flex;\n",
              "      flex-wrap:wrap;\n",
              "      gap: 12px;\n",
              "    }\n",
              "\n",
              "    .colab-df-convert {\n",
              "      background-color: #E8F0FE;\n",
              "      border: none;\n",
              "      border-radius: 50%;\n",
              "      cursor: pointer;\n",
              "      display: none;\n",
              "      fill: #1967D2;\n",
              "      height: 32px;\n",
              "      padding: 0 0 0 0;\n",
              "      width: 32px;\n",
              "    }\n",
              "\n",
              "    .colab-df-convert:hover {\n",
              "      background-color: #E2EBFA;\n",
              "      box-shadow: 0px 1px 2px rgba(60, 64, 67, 0.3), 0px 1px 3px 1px rgba(60, 64, 67, 0.15);\n",
              "      fill: #174EA6;\n",
              "    }\n",
              "\n",
              "    [theme=dark] .colab-df-convert {\n",
              "      background-color: #3B4455;\n",
              "      fill: #D2E3FC;\n",
              "    }\n",
              "\n",
              "    [theme=dark] .colab-df-convert:hover {\n",
              "      background-color: #434B5C;\n",
              "      box-shadow: 0px 1px 3px 1px rgba(0, 0, 0, 0.15);\n",
              "      filter: drop-shadow(0px 1px 2px rgba(0, 0, 0, 0.3));\n",
              "      fill: #FFFFFF;\n",
              "    }\n",
              "  </style>\n",
              "\n",
              "      <script>\n",
              "        const buttonEl =\n",
              "          document.querySelector('#df-ec437357-f825-44c4-961a-32545414df73 button.colab-df-convert');\n",
              "        buttonEl.style.display =\n",
              "          google.colab.kernel.accessAllowed ? 'block' : 'none';\n",
              "\n",
              "        async function convertToInteractive(key) {\n",
              "          const element = document.querySelector('#df-ec437357-f825-44c4-961a-32545414df73');\n",
              "          const dataTable =\n",
              "            await google.colab.kernel.invokeFunction('convertToInteractive',\n",
              "                                                     [key], {});\n",
              "          if (!dataTable) return;\n",
              "\n",
              "          const docLinkHtml = 'Like what you see? Visit the ' +\n",
              "            '<a target=\"_blank\" href=https://colab.research.google.com/notebooks/data_table.ipynb>data table notebook</a>'\n",
              "            + ' to learn more about interactive tables.';\n",
              "          element.innerHTML = '';\n",
              "          dataTable['output_type'] = 'display_data';\n",
              "          await google.colab.output.renderOutput(dataTable, element);\n",
              "          const docLink = document.createElement('div');\n",
              "          docLink.innerHTML = docLinkHtml;\n",
              "          element.appendChild(docLink);\n",
              "        }\n",
              "      </script>\n",
              "    </div>\n",
              "  </div>\n",
              "  "
            ]
          },
          "metadata": {},
          "execution_count": 10
        }
      ]
    },
    {
      "cell_type": "markdown",
      "source": [
        "###Preenchendo os valores nulos da coluna \"Sinopse\" para o Dataframe ficar completo, como faltam poucos valores é possível preencer a coluna sem mudar muita informação no DF."
      ],
      "metadata": {
        "id": "Sf_Ji5_nbJmQ"
      }
    },
    {
      "cell_type": "code",
      "source": [
        "dfcopia.Sinopse = dfcopia.Sinopse.fillna(\"NAO_DEFINIDO\")"
      ],
      "metadata": {
        "id": "wXlscl8LOEJo"
      },
      "execution_count": null,
      "outputs": []
    },
    {
      "cell_type": "code",
      "source": [
        "dfcopia.info()"
      ],
      "metadata": {
        "colab": {
          "base_uri": "https://localhost:8080/"
        },
        "id": "1OLoeRzPOSWN",
        "outputId": "7eadf352-e8d7-4306-d8a4-1684d129db68"
      },
      "execution_count": null,
      "outputs": [
        {
          "output_type": "stream",
          "name": "stdout",
          "text": [
            "<class 'pandas.core.frame.DataFrame'>\n",
            "RangeIndex: 10000 entries, 0 to 9999\n",
            "Data columns (total 8 columns):\n",
            " #   Column             Non-Null Count  Dtype  \n",
            "---  ------             --------------  -----  \n",
            " 0   Idioma_Original    10000 non-null  object \n",
            " 1   Título_Original    10000 non-null  object \n",
            " 2   Sinopse            10000 non-null  object \n",
            " 3   Qtd_Visualizações  10000 non-null  float64\n",
            " 4   Data_Lançamento    10000 non-null  object \n",
            " 5   Nome_Filme         10000 non-null  object \n",
            " 6   Nota do Público    10000 non-null  float64\n",
            " 7   Qtd de votos       10000 non-null  int64  \n",
            "dtypes: float64(2), int64(1), object(5)\n",
            "memory usage: 625.1+ KB\n"
          ]
        }
      ]
    },
    {
      "cell_type": "code",
      "source": [
        "dfcopia.columns"
      ],
      "metadata": {
        "colab": {
          "base_uri": "https://localhost:8080/"
        },
        "id": "WxFy_EW2MKGw",
        "outputId": "d8eb8491-98b0-4db3-b4bf-45b411a627a0"
      },
      "execution_count": null,
      "outputs": [
        {
          "output_type": "execute_result",
          "data": {
            "text/plain": [
              "Index(['Idioma_Original', 'Título_Original', 'Sinopse', 'Qtd_Visualizações',\n",
              "       'Data_Lançamento', 'Nome_Filme', 'Nota do Público', 'Qtd de votos',\n",
              "       'Data_de_Lançamento'],\n",
              "      dtype='object')"
            ]
          },
          "metadata": {},
          "execution_count": 24
        }
      ]
    },
    {
      "cell_type": "code",
      "source": [
        "dfcopia"
      ],
      "metadata": {
        "colab": {
          "base_uri": "https://localhost:8080/",
          "height": 728
        },
        "id": "7I_bC9sPM_Qm",
        "outputId": "b0121c76-c783-47a7-ace9-d7c802a966c3"
      },
      "execution_count": null,
      "outputs": [
        {
          "output_type": "execute_result",
          "data": {
            "text/plain": [
              "     Idioma_Original            Título_Original  \\\n",
              "0                 ko                    20세기 소녀   \n",
              "1                 en              The Godfather   \n",
              "2                 en   The Shawshank Redemption   \n",
              "3                 en      The Godfather Part II   \n",
              "4                 es           Cosas imposibles   \n",
              "...              ...                        ...   \n",
              "9995              en         Hollywood Homicide   \n",
              "9996              fr  Une heure de tranquillité   \n",
              "9997              en                  Apollo 18   \n",
              "9998              en                     Emergo   \n",
              "9999              de                Nekromantik   \n",
              "\n",
              "                                                Sinopse  Qtd_Visualizações  \\\n",
              "0     Yeon-du asks her best friend Bora to collect a...            170.540   \n",
              "1     Spanning the years 1945 to 1955, a chronicle o...             86.518   \n",
              "2     Framed in the 1940s for the double murder of h...             84.681   \n",
              "3     In the continuing saga of the Corleone crime f...             44.957   \n",
              "4     Matilde is a woman who, after the death of her...             32.859   \n",
              "...                                                 ...                ...   \n",
              "9995  Joe Gavilan and his new partner K. C. Calden, ...              9.532   \n",
              "9996  Michel, who's crazy about jazz, has just found...              5.835   \n",
              "9997  Officially, Apollo 17 was the last manned miss...             51.415   \n",
              "9998  A team of parapsychologists sets out to invest...              6.226   \n",
              "9999  A street sweeper who cleans up after grisly ac...              9.630   \n",
              "\n",
              "     Data_Lançamento                Nome_Filme  Nota do Público  Qtd de votos  \\\n",
              "0         2022-10-06         20th Century Girl              8.7           290   \n",
              "1         1972-03-14             The Godfather              8.7         16988   \n",
              "2         1994-09-23  The Shawshank Redemption              8.7         22748   \n",
              "3         1974-12-20     The Godfather Part II              8.6         10293   \n",
              "4         2021-06-17         Impossible Things              8.6           299   \n",
              "...              ...                       ...              ...           ...   \n",
              "9995      2003-06-09        Hollywood Homicide              5.3           529   \n",
              "9996      2014-12-31            Do Not Disturb              5.3           304   \n",
              "9997      2011-07-20                 Apollo 18              5.3           839   \n",
              "9998      2011-10-11             Apartment 143              5.3           242   \n",
              "9999      1988-01-29               Nekromantik              5.3           202   \n",
              "\n",
              "     Data_de_Lançamento  \n",
              "0            2022-10-06  \n",
              "1            1972-03-14  \n",
              "2            1994-09-23  \n",
              "3            1974-12-20  \n",
              "4            2021-06-17  \n",
              "...                 ...  \n",
              "9995         2003-06-09  \n",
              "9996         2014-12-31  \n",
              "9997         2011-07-20  \n",
              "9998         2011-10-11  \n",
              "9999         1988-01-29  \n",
              "\n",
              "[10000 rows x 9 columns]"
            ],
            "text/html": [
              "\n",
              "  <div id=\"df-2e56648e-7c0d-430e-9a9c-41ac1147ecd6\">\n",
              "    <div class=\"colab-df-container\">\n",
              "      <div>\n",
              "<style scoped>\n",
              "    .dataframe tbody tr th:only-of-type {\n",
              "        vertical-align: middle;\n",
              "    }\n",
              "\n",
              "    .dataframe tbody tr th {\n",
              "        vertical-align: top;\n",
              "    }\n",
              "\n",
              "    .dataframe thead th {\n",
              "        text-align: right;\n",
              "    }\n",
              "</style>\n",
              "<table border=\"1\" class=\"dataframe\">\n",
              "  <thead>\n",
              "    <tr style=\"text-align: right;\">\n",
              "      <th></th>\n",
              "      <th>Idioma_Original</th>\n",
              "      <th>Título_Original</th>\n",
              "      <th>Sinopse</th>\n",
              "      <th>Qtd_Visualizações</th>\n",
              "      <th>Data_Lançamento</th>\n",
              "      <th>Nome_Filme</th>\n",
              "      <th>Nota do Público</th>\n",
              "      <th>Qtd de votos</th>\n",
              "      <th>Data_de_Lançamento</th>\n",
              "    </tr>\n",
              "  </thead>\n",
              "  <tbody>\n",
              "    <tr>\n",
              "      <th>0</th>\n",
              "      <td>ko</td>\n",
              "      <td>20세기 소녀</td>\n",
              "      <td>Yeon-du asks her best friend Bora to collect a...</td>\n",
              "      <td>170.540</td>\n",
              "      <td>2022-10-06</td>\n",
              "      <td>20th Century Girl</td>\n",
              "      <td>8.7</td>\n",
              "      <td>290</td>\n",
              "      <td>2022-10-06</td>\n",
              "    </tr>\n",
              "    <tr>\n",
              "      <th>1</th>\n",
              "      <td>en</td>\n",
              "      <td>The Godfather</td>\n",
              "      <td>Spanning the years 1945 to 1955, a chronicle o...</td>\n",
              "      <td>86.518</td>\n",
              "      <td>1972-03-14</td>\n",
              "      <td>The Godfather</td>\n",
              "      <td>8.7</td>\n",
              "      <td>16988</td>\n",
              "      <td>1972-03-14</td>\n",
              "    </tr>\n",
              "    <tr>\n",
              "      <th>2</th>\n",
              "      <td>en</td>\n",
              "      <td>The Shawshank Redemption</td>\n",
              "      <td>Framed in the 1940s for the double murder of h...</td>\n",
              "      <td>84.681</td>\n",
              "      <td>1994-09-23</td>\n",
              "      <td>The Shawshank Redemption</td>\n",
              "      <td>8.7</td>\n",
              "      <td>22748</td>\n",
              "      <td>1994-09-23</td>\n",
              "    </tr>\n",
              "    <tr>\n",
              "      <th>3</th>\n",
              "      <td>en</td>\n",
              "      <td>The Godfather Part II</td>\n",
              "      <td>In the continuing saga of the Corleone crime f...</td>\n",
              "      <td>44.957</td>\n",
              "      <td>1974-12-20</td>\n",
              "      <td>The Godfather Part II</td>\n",
              "      <td>8.6</td>\n",
              "      <td>10293</td>\n",
              "      <td>1974-12-20</td>\n",
              "    </tr>\n",
              "    <tr>\n",
              "      <th>4</th>\n",
              "      <td>es</td>\n",
              "      <td>Cosas imposibles</td>\n",
              "      <td>Matilde is a woman who, after the death of her...</td>\n",
              "      <td>32.859</td>\n",
              "      <td>2021-06-17</td>\n",
              "      <td>Impossible Things</td>\n",
              "      <td>8.6</td>\n",
              "      <td>299</td>\n",
              "      <td>2021-06-17</td>\n",
              "    </tr>\n",
              "    <tr>\n",
              "      <th>...</th>\n",
              "      <td>...</td>\n",
              "      <td>...</td>\n",
              "      <td>...</td>\n",
              "      <td>...</td>\n",
              "      <td>...</td>\n",
              "      <td>...</td>\n",
              "      <td>...</td>\n",
              "      <td>...</td>\n",
              "      <td>...</td>\n",
              "    </tr>\n",
              "    <tr>\n",
              "      <th>9995</th>\n",
              "      <td>en</td>\n",
              "      <td>Hollywood Homicide</td>\n",
              "      <td>Joe Gavilan and his new partner K. C. Calden, ...</td>\n",
              "      <td>9.532</td>\n",
              "      <td>2003-06-09</td>\n",
              "      <td>Hollywood Homicide</td>\n",
              "      <td>5.3</td>\n",
              "      <td>529</td>\n",
              "      <td>2003-06-09</td>\n",
              "    </tr>\n",
              "    <tr>\n",
              "      <th>9996</th>\n",
              "      <td>fr</td>\n",
              "      <td>Une heure de tranquillité</td>\n",
              "      <td>Michel, who's crazy about jazz, has just found...</td>\n",
              "      <td>5.835</td>\n",
              "      <td>2014-12-31</td>\n",
              "      <td>Do Not Disturb</td>\n",
              "      <td>5.3</td>\n",
              "      <td>304</td>\n",
              "      <td>2014-12-31</td>\n",
              "    </tr>\n",
              "    <tr>\n",
              "      <th>9997</th>\n",
              "      <td>en</td>\n",
              "      <td>Apollo 18</td>\n",
              "      <td>Officially, Apollo 17 was the last manned miss...</td>\n",
              "      <td>51.415</td>\n",
              "      <td>2011-07-20</td>\n",
              "      <td>Apollo 18</td>\n",
              "      <td>5.3</td>\n",
              "      <td>839</td>\n",
              "      <td>2011-07-20</td>\n",
              "    </tr>\n",
              "    <tr>\n",
              "      <th>9998</th>\n",
              "      <td>en</td>\n",
              "      <td>Emergo</td>\n",
              "      <td>A team of parapsychologists sets out to invest...</td>\n",
              "      <td>6.226</td>\n",
              "      <td>2011-10-11</td>\n",
              "      <td>Apartment 143</td>\n",
              "      <td>5.3</td>\n",
              "      <td>242</td>\n",
              "      <td>2011-10-11</td>\n",
              "    </tr>\n",
              "    <tr>\n",
              "      <th>9999</th>\n",
              "      <td>de</td>\n",
              "      <td>Nekromantik</td>\n",
              "      <td>A street sweeper who cleans up after grisly ac...</td>\n",
              "      <td>9.630</td>\n",
              "      <td>1988-01-29</td>\n",
              "      <td>Nekromantik</td>\n",
              "      <td>5.3</td>\n",
              "      <td>202</td>\n",
              "      <td>1988-01-29</td>\n",
              "    </tr>\n",
              "  </tbody>\n",
              "</table>\n",
              "<p>10000 rows × 9 columns</p>\n",
              "</div>\n",
              "      <button class=\"colab-df-convert\" onclick=\"convertToInteractive('df-2e56648e-7c0d-430e-9a9c-41ac1147ecd6')\"\n",
              "              title=\"Convert this dataframe to an interactive table.\"\n",
              "              style=\"display:none;\">\n",
              "        \n",
              "  <svg xmlns=\"http://www.w3.org/2000/svg\" height=\"24px\"viewBox=\"0 0 24 24\"\n",
              "       width=\"24px\">\n",
              "    <path d=\"M0 0h24v24H0V0z\" fill=\"none\"/>\n",
              "    <path d=\"M18.56 5.44l.94 2.06.94-2.06 2.06-.94-2.06-.94-.94-2.06-.94 2.06-2.06.94zm-11 1L8.5 8.5l.94-2.06 2.06-.94-2.06-.94L8.5 2.5l-.94 2.06-2.06.94zm10 10l.94 2.06.94-2.06 2.06-.94-2.06-.94-.94-2.06-.94 2.06-2.06.94z\"/><path d=\"M17.41 7.96l-1.37-1.37c-.4-.4-.92-.59-1.43-.59-.52 0-1.04.2-1.43.59L10.3 9.45l-7.72 7.72c-.78.78-.78 2.05 0 2.83L4 21.41c.39.39.9.59 1.41.59.51 0 1.02-.2 1.41-.59l7.78-7.78 2.81-2.81c.8-.78.8-2.07 0-2.86zM5.41 20L4 18.59l7.72-7.72 1.47 1.35L5.41 20z\"/>\n",
              "  </svg>\n",
              "      </button>\n",
              "      \n",
              "  <style>\n",
              "    .colab-df-container {\n",
              "      display:flex;\n",
              "      flex-wrap:wrap;\n",
              "      gap: 12px;\n",
              "    }\n",
              "\n",
              "    .colab-df-convert {\n",
              "      background-color: #E8F0FE;\n",
              "      border: none;\n",
              "      border-radius: 50%;\n",
              "      cursor: pointer;\n",
              "      display: none;\n",
              "      fill: #1967D2;\n",
              "      height: 32px;\n",
              "      padding: 0 0 0 0;\n",
              "      width: 32px;\n",
              "    }\n",
              "\n",
              "    .colab-df-convert:hover {\n",
              "      background-color: #E2EBFA;\n",
              "      box-shadow: 0px 1px 2px rgba(60, 64, 67, 0.3), 0px 1px 3px 1px rgba(60, 64, 67, 0.15);\n",
              "      fill: #174EA6;\n",
              "    }\n",
              "\n",
              "    [theme=dark] .colab-df-convert {\n",
              "      background-color: #3B4455;\n",
              "      fill: #D2E3FC;\n",
              "    }\n",
              "\n",
              "    [theme=dark] .colab-df-convert:hover {\n",
              "      background-color: #434B5C;\n",
              "      box-shadow: 0px 1px 3px 1px rgba(0, 0, 0, 0.15);\n",
              "      filter: drop-shadow(0px 1px 2px rgba(0, 0, 0, 0.3));\n",
              "      fill: #FFFFFF;\n",
              "    }\n",
              "  </style>\n",
              "\n",
              "      <script>\n",
              "        const buttonEl =\n",
              "          document.querySelector('#df-2e56648e-7c0d-430e-9a9c-41ac1147ecd6 button.colab-df-convert');\n",
              "        buttonEl.style.display =\n",
              "          google.colab.kernel.accessAllowed ? 'block' : 'none';\n",
              "\n",
              "        async function convertToInteractive(key) {\n",
              "          const element = document.querySelector('#df-2e56648e-7c0d-430e-9a9c-41ac1147ecd6');\n",
              "          const dataTable =\n",
              "            await google.colab.kernel.invokeFunction('convertToInteractive',\n",
              "                                                     [key], {});\n",
              "          if (!dataTable) return;\n",
              "\n",
              "          const docLinkHtml = 'Like what you see? Visit the ' +\n",
              "            '<a target=\"_blank\" href=https://colab.research.google.com/notebooks/data_table.ipynb>data table notebook</a>'\n",
              "            + ' to learn more about interactive tables.';\n",
              "          element.innerHTML = '';\n",
              "          dataTable['output_type'] = 'display_data';\n",
              "          await google.colab.output.renderOutput(dataTable, element);\n",
              "          const docLink = document.createElement('div');\n",
              "          docLink.innerHTML = docLinkHtml;\n",
              "          element.appendChild(docLink);\n",
              "        }\n",
              "      </script>\n",
              "    </div>\n",
              "  </div>\n",
              "  "
            ]
          },
          "metadata": {},
          "execution_count": 25
        }
      ]
    },
    {
      "cell_type": "markdown",
      "source": [
        "###Mostrando as informações sobre a quantidade de visualizações de cada filme, a quantidade de visualizações que cada filme teve e a nota do público para ver se estão bem distribuídas."
      ],
      "metadata": {
        "id": "McBFPZrYgGUa"
      }
    },
    {
      "cell_type": "code",
      "source": [
        "dfcopia['Qtd de votos'].describe()"
      ],
      "metadata": {
        "colab": {
          "base_uri": "https://localhost:8080/"
        },
        "id": "cw7dkPc-A5w1",
        "outputId": "daedf50e-888a-4f84-d35b-102ddb9c0855"
      },
      "execution_count": null,
      "outputs": [
        {
          "output_type": "execute_result",
          "data": {
            "text/plain": [
              "count    10000.000000\n",
              "mean      1592.082600\n",
              "std       2724.194868\n",
              "min        200.000000\n",
              "25%        319.000000\n",
              "50%        599.000000\n",
              "75%       1508.000000\n",
              "max      32679.000000\n",
              "Name: Qtd de votos, dtype: float64"
            ]
          },
          "metadata": {},
          "execution_count": 30
        }
      ]
    },
    {
      "cell_type": "code",
      "source": [
        "dfcopia['Qtd_Visualizações'].describe()"
      ],
      "metadata": {
        "colab": {
          "base_uri": "https://localhost:8080/"
        },
        "id": "53v7FanBhp4O",
        "outputId": "76220060-9b9a-40ee-fd99-cbbba446ece9"
      },
      "execution_count": null,
      "outputs": [
        {
          "output_type": "execute_result",
          "data": {
            "text/plain": [
              "count    10000.000000\n",
              "mean        23.186472\n",
              "std        112.504114\n",
              "min          0.600000\n",
              "25%         10.221750\n",
              "50%         14.033500\n",
              "75%         21.241750\n",
              "max       9137.939000\n",
              "Name: Qtd_Visualizações, dtype: float64"
            ]
          },
          "metadata": {},
          "execution_count": 31
        }
      ]
    },
    {
      "cell_type": "code",
      "source": [
        "dfcopia['Nota do Público'].describe()"
      ],
      "metadata": {
        "colab": {
          "base_uri": "https://localhost:8080/"
        },
        "id": "th9IEEEhh89B",
        "outputId": "a9309ade-4e95-43a8-dfa2-8a63d75681a8"
      },
      "execution_count": null,
      "outputs": [
        {
          "output_type": "execute_result",
          "data": {
            "text/plain": [
              "count    10000.000000\n",
              "mean         6.681610\n",
              "std          0.705462\n",
              "min          5.300000\n",
              "25%          6.100000\n",
              "50%          6.700000\n",
              "75%          7.200000\n",
              "max          8.700000\n",
              "Name: Nota do Público, dtype: float64"
            ]
          },
          "metadata": {},
          "execution_count": 32
        }
      ]
    },
    {
      "cell_type": "markdown",
      "source": [
        "###Histograma das Notas do público para ver se as notas estão bem distribuídas e se é possivel utilizar os dados para calculos futuros."
      ],
      "metadata": {
        "id": "HKgdiRDeiNYl"
      }
    },
    {
      "cell_type": "code",
      "source": [
        "dfcopia['Nota do Público'].hist()"
      ],
      "metadata": {
        "colab": {
          "base_uri": "https://localhost:8080/",
          "height": 282
        },
        "id": "1GnfYElWEfVC",
        "outputId": "a3c9201a-780f-47f4-f26f-158b9448ad64"
      },
      "execution_count": null,
      "outputs": [
        {
          "output_type": "execute_result",
          "data": {
            "text/plain": [
              "<matplotlib.axes._subplots.AxesSubplot at 0x7f49a9352580>"
            ]
          },
          "metadata": {},
          "execution_count": 33
        },
        {
          "output_type": "display_data",
          "data": {
            "text/plain": [
              "<Figure size 432x288 with 1 Axes>"
            ],
            "image/png": "[encoded data removed]"
          },
          "metadata": {
            "needs_background": "light"
          }
        }
      ]
    }
  ]
}